{
 "cells": [
  {
   "cell_type": "markdown",
   "source": [
    "# Matrices and Linear Algebra Fundamentals"
   ],
   "metadata": {}
  },
  {
   "cell_type": "markdown",
   "source": [
    "## Vector and Real Co-ordinate Sapce\n",
    "\n",
    "![images](./images/vector&space.png)\n",
    "\n",
    "**Note**: `R^n` is the `n-dimensional` real co-ordinate space."
   ],
   "metadata": {}
  },
  {
   "cell_type": "markdown",
   "source": [
    "### Vector in Python"
   ],
   "metadata": {}
  },
  {
   "cell_type": "code",
   "execution_count": 20,
   "source": [
    "# Represent a vector in python \n",
    "# import numpy \n",
    "import numpy as np\n",
    "\n",
    "v = np.array([1,2,3]) # Use NumPy to create a one-dimensional array.\n",
    "\n",
    "print(v)"
   ],
   "outputs": [
    {
     "output_type": "stream",
     "name": "stdout",
     "text": [
      "[1 2 3]\n"
     ]
    }
   ],
   "metadata": {}
  },
  {
   "cell_type": "code",
   "execution_count": 21,
   "source": [
    "# Create 2 and 3 dimensional vector\n",
    "two_dim = np.array([[1,2],[2,3],[3,4]])\n",
    "print(two_dim)\n",
    "\n",
    "three_dim = np.array([[[1,2,3],[3,4,5],[6,7,8]]])\n",
    "print(three_dim)"
   ],
   "outputs": [
    {
     "output_type": "stream",
     "name": "stdout",
     "text": [
      "[[1 2]\n",
      " [2 3]\n",
      " [3 4]]\n",
      "[[[1 2 3]\n",
      "  [3 4 5]\n",
      "  [6 7 8]]]\n"
     ]
    }
   ],
   "metadata": {}
  },
  {
   "cell_type": "markdown",
   "source": [
    "## Adding Vectors\n",
    "\n",
    "![images](./images/vector-addition.png)"
   ],
   "metadata": {}
  },
  {
   "cell_type": "markdown",
   "source": [
    "### Adding Vector in Python"
   ],
   "metadata": {}
  },
  {
   "cell_type": "code",
   "execution_count": 22,
   "source": [
    "a = np.array([6, -2])\n",
    "b = np.array([-4, 4])\n",
    "\n",
    "c = a + b # \"+\" operator perform vector addition in numpy python.\n",
    "print(c)\n",
    "\n",
    "d = b + a \n",
    "print(c)\n",
    "\n",
    "assert (c.all() == d.all()) # check all the element of c and d are equal or not\n",
    "# so we can say \"a + b = b + a\""
   ],
   "outputs": [
    {
     "output_type": "stream",
     "name": "stdout",
     "text": [
      "[2 2]\n",
      "[2 2]\n"
     ]
    }
   ],
   "metadata": {}
  },
  {
   "cell_type": "markdown",
   "source": [
    "## Multiply a Vector By Scalar\n",
    "\n",
    "![images](images/vector-scalar-multiplication.png)"
   ],
   "metadata": {}
  },
  {
   "cell_type": "markdown",
   "source": [
    "### Vector Scalar Multiplication in Python"
   ],
   "metadata": {}
  },
  {
   "cell_type": "code",
   "execution_count": 23,
   "source": [
    "a = np.array([2,1])\n",
    "\n",
    "b = 2 * a\n",
    "print(b)\n",
    "\n",
    "c = -1 * a\n",
    "print(c)\n",
    "\n",
    "d = -2 * a\n",
    "print(d)"
   ],
   "outputs": [
    {
     "output_type": "stream",
     "name": "stdout",
     "text": [
      "[4 2]\n",
      "[-2 -1]\n",
      "[-4 -2]\n"
     ]
    }
   ],
   "metadata": {}
  },
  {
   "cell_type": "markdown",
   "source": [
    "## Unit Vector\n",
    "\n",
    "![images](./images/unit-vector.png)"
   ],
   "metadata": {}
  }
 ],
 "metadata": {
  "orig_nbformat": 4,
  "language_info": {
   "name": "python",
   "version": "3.8.10",
   "mimetype": "text/x-python",
   "codemirror_mode": {
    "name": "ipython",
    "version": 3
   },
   "pygments_lexer": "ipython3",
   "nbconvert_exporter": "python",
   "file_extension": ".py"
  },
  "kernelspec": {
   "name": "python3",
   "display_name": "Python 3.8.10 64-bit"
  },
  "interpreter": {
   "hash": "e7370f93d1d0cde622a1f8e1c04877d8463912d04d973331ad4851f04de6915a"
  }
 },
 "nbformat": 4,
 "nbformat_minor": 2
}
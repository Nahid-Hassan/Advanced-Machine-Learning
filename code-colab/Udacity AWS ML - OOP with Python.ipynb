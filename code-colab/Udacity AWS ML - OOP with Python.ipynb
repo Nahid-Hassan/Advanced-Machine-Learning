{
 "cells": [
  {
   "cell_type": "markdown",
   "id": "801cd5bd",
   "metadata": {},
   "source": [
    "# Introduction to Object Oriented Programming"
   ]
  },
  {
   "cell_type": "markdown",
   "id": "3f809340",
   "metadata": {},
   "source": [
    "## Lesson outline\n",
    "\n",
    "- Object-oriented programming syntax\n",
    "    - Procedural vs. object-oriented programming\n",
    "    - Classes, objects, methods and attributes\n",
    "    - Coding a class\n",
    "    - Magic methods\n",
    "    - Inheritance\n",
    "\n",
    "- Using object-oriented programming to make a Python package\n",
    "    - Making a package\n",
    "    - Tour of `scikit-learn` source code\n",
    "    - Putting your package on **PyPi**"
   ]
  },
  {
   "cell_type": "markdown",
   "id": "a930e595",
   "metadata": {},
   "source": [
    "## Class, object, method, and attribute\n",
    "\n",
    "- Object-oriented programming (OOP) vocabulary\n",
    "  \n",
    "  - `Class`: A blueprint consisting of methods and attributes.\n",
    "    - `Object`: An instance of a class. It can help to think of objects as something in the real world like a yellow pencil, a small dog, or a blue shirt. However, as you'll see later in the lesson, objects can be more abstract.\n",
    "    - `Attribute`: A descriptor or characteristic. Examples would be color, length, size, etc. These attributes can take on specific values like blue, 3 inches, large, etc.\n",
    "    - `Method`: An action that a class or object could take.\n",
    "    - `OOP`: A commonly used abbreviation for object-oriented programming.\n",
    "    - `Encapsulation`: One of the fundamental ideas behind object-oriented programming is called encapsulation: you can combine functions and data all into a single entity. In object-oriented programming, this single entity is called a class. Encapsulation allows you to hide implementation details, much like how the scikit-learn package hides the implementation of machine learning algorithms.\n"
   ]
  },
  {
   "cell_type": "markdown",
   "id": "ec89b59a",
   "metadata": {},
   "source": [
    "## OOP Syntax"
   ]
  },
  {
   "cell_type": "code",
   "execution_count": 1,
   "id": "791a8c70",
   "metadata": {},
   "outputs": [],
   "source": [
    "class Shirt:\n",
    "    \n",
    "    def __init__(self, shirt_color, shirt_size, shirt_style, shirt_price):\n",
    "        self.color = shirt_color;\n",
    "        self.size = shirt_size;\n",
    "        self.style = shirt_style;\n",
    "        self.price = shirt_price;\n",
    "        \n",
    "    def change_price(self, new_price):\n",
    "        self.price = new_price;\n",
    "    \n",
    "    def discount(self, discount):\n",
    "        return self.price * (1 - discount)"
   ]
  },
  {
   "cell_type": "code",
   "execution_count": 2,
   "id": "83121364",
   "metadata": {},
   "outputs": [],
   "source": [
    "Shirt('red', 's', 'short sleeve', 15);"
   ]
  },
  {
   "cell_type": "code",
   "execution_count": 3,
   "id": "cc8dd132",
   "metadata": {},
   "outputs": [],
   "source": [
    "new_shirt = Shirt('red', 's', 'short sleeve', 15);"
   ]
  },
  {
   "cell_type": "code",
   "execution_count": 4,
   "id": "50f384d7",
   "metadata": {},
   "outputs": [
    {
     "name": "stdout",
     "output_type": "stream",
     "text": [
      "red\n",
      "s\n",
      "short sleeve\n",
      "15\n"
     ]
    }
   ],
   "source": [
    "print(new_shirt.color)\n",
    "print(new_shirt.size)\n",
    "print(new_shirt.style)\n",
    "print(new_shirt.price)"
   ]
  },
  {
   "cell_type": "code",
   "execution_count": 5,
   "id": "21a5f97a",
   "metadata": {},
   "outputs": [
    {
     "name": "stdout",
     "output_type": "stream",
     "text": [
      "10\n"
     ]
    }
   ],
   "source": [
    "new_shirt.change_price(10)\n",
    "print(new_shirt.price)"
   ]
  },
  {
   "cell_type": "code",
   "execution_count": 6,
   "id": "c9aff545",
   "metadata": {},
   "outputs": [
    {
     "name": "stdout",
     "output_type": "stream",
     "text": [
      "orange\n",
      "red\n",
      "purple\n"
     ]
    }
   ],
   "source": [
    "tshirt_collection = []\n",
    "\n",
    "shirt_one = Shirt('orange', 'M', 'short sleeve', 25)\n",
    "shirt_two = Shirt('red', 'S', 'short sleeve', 15)\n",
    "shirt_three = Shirt('purple', 'XL', 'short sleeve', 35)\n",
    "\n",
    "tshirt_collection.append(shirt_one)\n",
    "tshirt_collection.append(shirt_two)\n",
    "tshirt_collection.append(shirt_three)\n",
    "\n",
    "for i in range(len(tshirt_collection)):\n",
    "    print(tshirt_collection[i].color)"
   ]
  },
  {
   "cell_type": "code",
   "execution_count": null,
   "id": "fa38ee9f",
   "metadata": {},
   "outputs": [],
   "source": []
  }
 ],
 "metadata": {
  "kernelspec": {
   "display_name": "Python 3 (ipykernel)",
   "language": "python",
   "name": "python3"
  },
  "language_info": {
   "codemirror_mode": {
    "name": "ipython",
    "version": 3
   },
   "file_extension": ".py",
   "mimetype": "text/x-python",
   "name": "python",
   "nbconvert_exporter": "python",
   "pygments_lexer": "ipython3",
   "version": "3.8.10"
  }
 },
 "nbformat": 4,
 "nbformat_minor": 5
}

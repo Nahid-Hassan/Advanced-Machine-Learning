{
 "cells": [
  {
   "cell_type": "markdown",
   "id": "7e0b14a3",
   "metadata": {},
   "source": [
    "### Import Module"
   ]
  },
  {
   "cell_type": "code",
   "execution_count": 34,
   "id": "c2435a39",
   "metadata": {},
   "outputs": [],
   "source": [
    "import tensorflow as tf"
   ]
  },
  {
   "cell_type": "markdown",
   "id": "75969eb7",
   "metadata": {},
   "source": [
    "### Load Data"
   ]
  },
  {
   "cell_type": "code",
   "execution_count": 35,
   "id": "815eb169",
   "metadata": {},
   "outputs": [
    {
     "data": {
      "text/plain": [
       "((60000, 28, 28), (10000, 28, 28))"
      ]
     },
     "execution_count": 35,
     "metadata": {},
     "output_type": "execute_result"
    }
   ],
   "source": [
    "fashion_mnist = tf.keras.datasets.fashion_mnist\n",
    "(x_train, y_train), (x_test, y_test) = fashion_mnist.load_data()\n",
    "x_train.shape, x_test.shape"
   ]
  },
  {
   "cell_type": "code",
   "execution_count": 38,
   "id": "0608a469",
   "metadata": {},
   "outputs": [
    {
     "data": {
      "text/plain": [
       "(28, 28)"
      ]
     },
     "execution_count": 38,
     "metadata": {},
     "output_type": "execute_result"
    },
    {
     "data": {
      "image/png": "[encoded data removed]",
      "text/plain": [
       "<Figure size 432x288 with 1 Axes>"
      ]
     },
     "metadata": {
      "needs_background": "light"
     },
     "output_type": "display_data"
    }
   ],
   "source": [
    "import numpy as np\n",
    "import matplotlib.pyplot as plt\n",
    "np.set_printoptions(200)\n",
    "\n",
    "plt.imshow(x_train[10])\n",
    "x_train[0].shape"
   ]
  },
  {
   "cell_type": "markdown",
   "id": "28a13ece",
   "metadata": {},
   "source": [
    "### Design Model"
   ]
  },
  {
   "cell_type": "code",
   "execution_count": 4,
   "id": "08ea3597",
   "metadata": {},
   "outputs": [
    {
     "name": "stdout",
     "output_type": "stream",
     "text": [
      "Model: \"sequential\"\n",
      "_________________________________________________________________\n",
      "Layer (type)                 Output Shape              Param #   \n",
      "=================================================================\n",
      "conv2d (Conv2D)              (None, 26, 26, 64)        640       \n",
      "_________________________________________________________________\n",
      "max_pooling2d (MaxPooling2D) (None, 13, 13, 64)        0         \n",
      "_________________________________________________________________\n",
      "conv2d_1 (Conv2D)            (None, 11, 11, 64)        36928     \n",
      "_________________________________________________________________\n",
      "max_pooling2d_1 (MaxPooling2 (None, 5, 5, 64)          0         \n",
      "_________________________________________________________________\n",
      "flatten (Flatten)            (None, 1600)              0         \n",
      "_________________________________________________________________\n",
      "dense (Dense)                (None, 128)               204928    \n",
      "_________________________________________________________________\n",
      "dense_1 (Dense)              (None, 10)                1290      \n",
      "=================================================================\n",
      "Total params: 243,786\n",
      "Trainable params: 243,786\n",
      "Non-trainable params: 0\n",
      "_________________________________________________________________\n"
     ]
    },
    {
     "name": "stderr",
     "output_type": "stream",
     "text": [
      "2021-08-22 09:25:39.903746: W tensorflow/stream_executor/platform/default/dso_loader.cc:64] Could not load dynamic library 'libcuda.so.1'; dlerror: libcuda.so.1: cannot open shared object file: No such file or directory\n",
      "2021-08-22 09:25:39.903891: W tensorflow/stream_executor/cuda/cuda_driver.cc:326] failed call to cuInit: UNKNOWN ERROR (303)\n",
      "2021-08-22 09:25:39.903995: I tensorflow/stream_executor/cuda/cuda_diagnostics.cc:156] kernel driver does not appear to be running on this host (cseru): /proc/driver/nvidia/version does not exist\n",
      "2021-08-22 09:25:39.904889: I tensorflow/core/platform/cpu_feature_guard.cc:142] This TensorFlow binary is optimized with oneAPI Deep Neural Network Library (oneDNN) to use the following CPU instructions in performance-critical operations:  AVX2 FMA\n",
      "To enable them in other operations, rebuild TensorFlow with the appropriate compiler flags.\n"
     ]
    }
   ],
   "source": [
    "model = tf.keras.Sequential([\n",
    "    tf.keras.layers.Conv2D(64, (3,3), input_shape=(28,28,1), activation='relu'),\n",
    "    tf.keras.layers.MaxPooling2D(2,2),\n",
    "    tf.keras.layers.Conv2D(64, (3,3), activation='relu'),\n",
    "    tf.keras.layers.MaxPooling2D(2,2),\n",
    "    tf.keras.layers.Flatten(),\n",
    "    tf.keras.layers.Dense(128, activation='relu'),\n",
    "    tf.keras.layers.Dense(10, activation='softmax')\n",
    "])\n",
    "\n",
    "model.summary()"
   ]
  },
  {
   "cell_type": "markdown",
   "id": "beaeec87",
   "metadata": {},
   "source": [
    "### Reshape Data"
   ]
  },
  {
   "cell_type": "code",
   "execution_count": 5,
   "id": "3094cb3f",
   "metadata": {},
   "outputs": [],
   "source": [
    "x_train = x_train.reshape(60000, 28, 28, 1)\n",
    "x_test = x_test.reshape(10000, 28, 28, 1)"
   ]
  },
  {
   "cell_type": "markdown",
   "id": "499bb909",
   "metadata": {},
   "source": [
    "### Compile and Fitting the model"
   ]
  },
  {
   "cell_type": "code",
   "execution_count": 6,
   "id": "a1b11767",
   "metadata": {},
   "outputs": [],
   "source": [
    "model.compile(optimizer='adam', loss='sparse_categorical_crossentropy', metrics=['accuracy'])"
   ]
  },
  {
   "cell_type": "code",
   "execution_count": 7,
   "id": "56c0d7d7",
   "metadata": {},
   "outputs": [
    {
     "name": "stderr",
     "output_type": "stream",
     "text": [
      "2021-08-22 09:25:40.656646: I tensorflow/compiler/mlir/mlir_graph_optimization_pass.cc:176] None of the MLIR Optimization Passes are enabled (registered 2)\n",
      "2021-08-22 09:25:40.674667: I tensorflow/core/platform/profile_utils/cpu_utils.cc:114] CPU Frequency: 2400000000 Hz\n"
     ]
    },
    {
     "name": "stdout",
     "output_type": "stream",
     "text": [
      "Epoch 1/5\n",
      "1875/1875 [==============================] - 48s 25ms/step - loss: 0.5919 - accuracy: 0.8300\n",
      "Epoch 2/5\n",
      "1875/1875 [==============================] - 50s 27ms/step - loss: 0.3267 - accuracy: 0.8801\n",
      "Epoch 3/5\n",
      "1875/1875 [==============================] - 44s 23ms/step - loss: 0.2847 - accuracy: 0.8936\n",
      "Epoch 4/5\n",
      "1875/1875 [==============================] - 49s 26ms/step - loss: 0.2583 - accuracy: 0.9032\n",
      "Epoch 5/5\n",
      "1875/1875 [==============================] - 51s 27ms/step - loss: 0.2329 - accuracy: 0.9125\n"
     ]
    },
    {
     "data": {
      "text/plain": [
       "<tensorflow.python.keras.callbacks.History at 0x7fcc74c543a0>"
      ]
     },
     "execution_count": 7,
     "metadata": {},
     "output_type": "execute_result"
    }
   ],
   "source": [
    "model.fit(x_train, y_train, epochs=5)"
   ]
  },
  {
   "cell_type": "code",
   "execution_count": 19,
   "id": "50621277",
   "metadata": {},
   "outputs": [
    {
     "data": {
      "text/plain": [
       "[array([[[[-7.02248421e-03, -1.21902175e-01, -1.20926518e-02,\n",
       "            6.53915331e-02,  3.64345461e-02,  6.68335781e-02,\n",
       "           -1.57905608e-01, -6.27043797e-03,  7.66676739e-02,\n",
       "            4.40124944e-02,  2.35033706e-02, -6.21668361e-02,\n",
       "           -3.02315336e-02, -9.52989534e-02, -8.34784061e-02,\n",
       "           -3.05326954e-02,  1.48746222e-01,  9.47445482e-02,\n",
       "            2.55493149e-02, -1.42065352e-02, -1.06481791e-01,\n",
       "           -1.46336496e-01,  7.75680598e-03, -8.14946741e-02,\n",
       "           -1.07229501e-01, -2.30730046e-02,  4.49653007e-02,\n",
       "            3.03699309e-03,  2.21604630e-02, -1.45347148e-01,\n",
       "           -7.22335055e-02, -1.19331971e-01, -3.59539181e-01,\n",
       "           -1.14645194e-02, -1.52272061e-01,  2.76508816e-02,\n",
       "           -1.37014523e-01, -5.41995689e-02, -1.20413126e-02,\n",
       "           -3.21356431e-02, -5.92501052e-02, -5.42276986e-02,\n",
       "            1.15799177e-02, -4.52537164e-02, -4.24020030e-02,\n",
       "            7.67776519e-02, -6.22084597e-04,  4.81507257e-02,\n",
       "           -2.74039023e-02, -1.54760092e-01, -6.50318414e-02,\n",
       "           -5.50430715e-02, -9.31212620e-04, -1.82350352e-01,\n",
       "           -6.89625219e-02, -6.95041642e-02, -1.10115200e-01,\n",
       "           -1.22252740e-01, -3.95006873e-02, -1.70340449e-01,\n",
       "            4.10092324e-02, -1.59887463e-01, -1.61527485e-01,\n",
       "           -7.84916505e-02]],\n",
       " \n",
       "         [[ 1.90984439e-02, -2.29070112e-01, -1.29026473e-01,\n",
       "           -2.25579411e-01,  4.57504019e-02, -9.94285801e-04,\n",
       "           -1.32203534e-01,  1.81767046e-02, -2.07873449e-01,\n",
       "            3.10645700e-02, -1.98214166e-02, -1.09687135e-01,\n",
       "           -4.81790639e-02, -1.20852049e-03, -3.05916797e-02,\n",
       "            9.91806239e-02, -3.92602272e-02, -1.49535850e-01,\n",
       "            4.83526140e-02,  4.22822386e-02, -7.63148740e-02,\n",
       "           -1.12239318e-02, -1.27047420e-01, -1.49831682e-01,\n",
       "           -1.06059477e-01, -8.66395980e-02, -2.53743473e-02,\n",
       "            9.09232069e-04, -6.35509714e-02, -1.31126255e-01,\n",
       "            4.48869988e-02, -4.06907886e-01, -1.66018367e-01,\n",
       "           -1.59301415e-01,  4.77638580e-02, -1.53588876e-01,\n",
       "           -2.31048763e-02,  1.25124708e-01, -6.48537725e-02,\n",
       "            3.12931947e-02, -3.80881652e-02,  1.12594426e-01,\n",
       "            1.05045829e-02, -4.62673046e-02,  2.93113310e-02,\n",
       "           -1.75502986e-01,  1.25690565e-01, -5.79602160e-02,\n",
       "           -1.07927144e-01,  3.03478222e-02, -4.74844165e-02,\n",
       "           -1.03481039e-01, -4.27223295e-02, -5.52636422e-02,\n",
       "            8.18608925e-02, -1.22077711e-01, -4.07956302e-01,\n",
       "           -9.12857503e-02, -1.12104692e-01, -3.10878754e-02,\n",
       "           -5.98794222e-02, -9.22233313e-02, -9.74491239e-02,\n",
       "            2.23394856e-02]],\n",
       " \n",
       "         [[-1.33080855e-02,  8.96354243e-02, -1.07448231e-02,\n",
       "            2.41001067e-03,  4.89626080e-02, -8.77215415e-02,\n",
       "            9.53057185e-02, -8.99996534e-02, -1.21811815e-01,\n",
       "           -4.01926227e-03,  5.45089506e-02, -8.12415406e-02,\n",
       "            1.47149926e-02,  3.38274911e-02, -1.01476563e-02,\n",
       "           -1.21744797e-01, -8.33407715e-02, -8.46531615e-03,\n",
       "           -1.28563568e-01,  9.90339648e-03, -1.37386650e-01,\n",
       "           -2.66492506e-03,  6.24255976e-03,  5.40250912e-02,\n",
       "           -2.77735777e-02,  1.56027852e-02, -6.68673441e-02,\n",
       "           -2.28818636e-02, -7.39175305e-02, -4.12467197e-02,\n",
       "            1.21570276e-02, -1.41980916e-01, -7.10157156e-02,\n",
       "            7.71817053e-03,  7.51846582e-02, -1.19819447e-01,\n",
       "            1.08976001e-02, -6.46881312e-02, -9.64008868e-02,\n",
       "            1.98940784e-02, -5.16870208e-02, -8.22423678e-03,\n",
       "           -1.27907628e-02,  1.04935214e-01,  4.93578203e-02,\n",
       "            4.75016795e-02, -3.82802598e-02,  8.07542447e-03,\n",
       "           -1.18690051e-01,  1.22137286e-01, -1.22691572e-01,\n",
       "           -1.78376898e-01,  1.73737425e-02,  9.54740718e-02,\n",
       "           -1.66259944e-01, -8.51385817e-02, -3.39266211e-01,\n",
       "            1.92003399e-02, -7.56678656e-02, -5.81725799e-02,\n",
       "           -5.52128404e-02, -5.48754968e-02, -2.79105231e-02,\n",
       "           -2.18595210e-02]]],\n",
       " \n",
       " \n",
       "        [[[-1.17878146e-01,  9.50352997e-02, -1.78942811e-02,\n",
       "           -3.21352363e-01,  8.00347049e-03, -9.68582258e-02,\n",
       "           -2.26713866e-01, -7.11596683e-02, -2.27278754e-01,\n",
       "           -2.68029310e-02,  5.71669340e-02,  3.17125395e-02,\n",
       "           -1.68531641e-01,  4.36487123e-02, -8.92692283e-02,\n",
       "           -8.95537063e-02, -3.87047902e-02, -5.84533950e-03,\n",
       "           -4.68345359e-02, -8.58094245e-02, -1.22839682e-01,\n",
       "           -4.86567095e-02,  2.64287256e-02,  2.17334796e-02,\n",
       "            9.71954092e-02, -1.83012292e-01, -4.85615543e-04,\n",
       "           -7.47583061e-02,  3.44215371e-02, -1.03237825e-02,\n",
       "            6.87265322e-02,  8.12306553e-02, -6.43534288e-02,\n",
       "           -6.66931272e-02,  3.50096822e-02, -5.23760654e-02,\n",
       "            2.88274083e-02,  9.00625587e-02, -5.88095263e-02,\n",
       "            1.11766132e-02, -8.00829902e-02,  2.09985282e-02,\n",
       "           -3.60633545e-02,  1.29316663e-02,  7.37254620e-02,\n",
       "           -4.01341356e-02, -1.52225876e-02,  1.81968268e-02,\n",
       "            4.87044863e-02, -1.03232451e-01, -1.37543589e-01,\n",
       "           -1.23388968e-01, -1.17393032e-01, -1.52566442e-02,\n",
       "           -9.40532535e-02, -1.24558853e-02, -1.81130017e-04,\n",
       "            5.75706959e-02,  3.83848436e-02, -2.31645867e-01,\n",
       "            2.01882981e-02,  5.37384227e-02, -1.13327272e-01,\n",
       "            2.02784799e-02]],\n",
       " \n",
       "         [[ 1.12378046e-01, -1.90813065e-01,  6.15456440e-02,\n",
       "           -3.24666165e-02,  3.75349149e-02, -8.36912021e-02,\n",
       "            8.61294642e-02, -4.05279221e-03, -8.20512176e-02,\n",
       "           -1.02651149e-01, -3.03803161e-02, -8.90925154e-02,\n",
       "           -6.06145561e-02, -2.77863443e-02,  9.31565650e-03,\n",
       "           -3.00143123e-01, -2.99368083e-01,  6.42061234e-02,\n",
       "           -7.70410374e-02, -7.28493780e-02,  5.14217541e-02,\n",
       "            4.85253222e-02, -4.86826673e-02, -2.53922343e-01,\n",
       "           -2.22716227e-01,  3.71475406e-02, -1.01387724e-01,\n",
       "            5.42744296e-03, -9.54450294e-02,  8.18612054e-02,\n",
       "           -1.04409210e-01,  1.25989811e-02, -2.22142413e-02,\n",
       "            3.83959338e-02,  4.78517227e-02,  7.97124282e-02,\n",
       "            2.65467986e-02,  1.29766585e-02, -1.27037585e-01,\n",
       "           -7.82020092e-02,  9.96775925e-02,  6.70663491e-02,\n",
       "           -5.54613285e-02, -1.56210929e-01,  6.62578046e-02,\n",
       "           -2.29016885e-01, -7.28520527e-02, -9.72208083e-02,\n",
       "            1.59251112e-02, -1.61763400e-01, -1.45109430e-01,\n",
       "           -1.16792873e-01,  3.86752672e-02,  3.66196558e-02,\n",
       "           -1.37391090e-01,  6.33689389e-02, -1.06859110e-01,\n",
       "           -3.56426537e-02, -1.18566945e-01, -2.92090233e-02,\n",
       "            6.69613481e-02, -3.70430611e-02,  1.07698351e-01,\n",
       "           -3.65771819e-04]],\n",
       " \n",
       "         [[-2.09229309e-02, -8.99275914e-02,  5.99769950e-02,\n",
       "            2.93712262e-02, -8.77410397e-02, -2.29546949e-01,\n",
       "           -5.26505895e-02, -1.77414358e-01,  1.05110645e-01,\n",
       "           -7.64831007e-02, -2.79513970e-02,  1.81338273e-03,\n",
       "           -6.91198856e-02, -1.21057667e-01,  1.40040768e-02,\n",
       "           -3.06725413e-01, -3.44191015e-01, -3.18321474e-02,\n",
       "           -1.39605269e-01, -1.26200497e-01,  1.53449606e-02,\n",
       "           -1.15364552e-01, -3.21095176e-02, -2.80818790e-02,\n",
       "            6.88121766e-02, -1.58445001e-01,  2.25546695e-02,\n",
       "            3.53878215e-02,  5.62810674e-02, -3.69888879e-02,\n",
       "           -7.80922268e-03,  3.62151973e-02,  7.24995360e-02,\n",
       "            3.88941877e-02, -5.74415065e-02,  2.20881198e-02,\n",
       "           -1.03293635e-01, -8.71803090e-02,  3.12382132e-02,\n",
       "            5.64521067e-02, -1.60104454e-01, -1.13965258e-01,\n",
       "           -1.12922795e-01, -1.48363605e-01,  4.82498556e-02,\n",
       "           -4.91869170e-03,  1.10507101e-01,  8.33574589e-03,\n",
       "           -7.96969831e-02,  6.87126964e-02, -4.94529963e-01,\n",
       "           -5.14888205e-02, -1.80886015e-01,  3.25577594e-02,\n",
       "           -1.61481854e-02,  6.27101958e-02, -2.38716900e-01,\n",
       "           -1.64590776e-02, -1.03497930e-01,  5.43063171e-02,\n",
       "           -9.63159800e-02,  1.17082305e-01,  6.93646492e-03,\n",
       "           -5.13627827e-02]]],\n",
       " \n",
       " \n",
       "        [[[-1.52052492e-01,  1.75287612e-02, -6.80861399e-02,\n",
       "           -2.35794455e-01, -9.16320458e-02,  2.43073516e-02,\n",
       "           -1.58038557e-01, -4.50591976e-03, -4.37024869e-02,\n",
       "           -7.09469616e-02, -5.40322717e-03, -8.54162350e-02,\n",
       "           -1.44458547e-01, -5.10328896e-02,  2.57983729e-02,\n",
       "            9.49355960e-02, -7.18269721e-02, -1.08512275e-01,\n",
       "           -4.56794761e-02, -6.58479854e-02,  8.32844153e-03,\n",
       "           -1.56450197e-02, -9.22970027e-02,  3.60167064e-02,\n",
       "            3.63707803e-02, -1.00548156e-01, -8.17476958e-02,\n",
       "           -3.39426543e-03,  5.21390699e-02, -1.14751093e-01,\n",
       "           -4.29204479e-02, -5.22367135e-02,  4.33219336e-02,\n",
       "           -1.52304554e-02, -1.01803634e-02, -2.71827858e-02,\n",
       "           -2.33076513e-02,  7.68637434e-02, -2.23321002e-02,\n",
       "           -9.27239135e-02, -8.59448835e-02,  2.97423452e-02,\n",
       "           -1.63714942e-02, -4.39774804e-02, -7.63407126e-02,\n",
       "           -1.14512168e-01, -1.85678732e-02, -5.34784272e-02,\n",
       "            5.85037842e-02, -8.79426971e-02,  2.87439134e-02,\n",
       "           -5.37047023e-03, -7.51379877e-02,  6.57874197e-02,\n",
       "           -5.33384830e-02,  6.63016289e-02,  1.30808294e-01,\n",
       "           -6.13154061e-02, -1.63919359e-01, -1.07838430e-01,\n",
       "           -2.07447901e-01, -6.33541718e-02, -1.01393349e-01,\n",
       "           -3.27415690e-02]],\n",
       " \n",
       "         [[ 8.65003392e-02, -1.67319968e-01, -9.18852761e-02,\n",
       "            8.87115225e-02, -7.36680627e-02, -1.02868639e-01,\n",
       "            1.19355150e-01,  2.31603924e-02,  5.05101047e-02,\n",
       "           -6.77564815e-02,  1.63311288e-02,  3.89647670e-02,\n",
       "           -1.81521550e-01, -6.70632115e-03,  5.12906304e-03,\n",
       "           -6.92889318e-02, -2.06984907e-01,  6.71850517e-02,\n",
       "           -2.95105726e-01,  5.29805906e-02,  5.13463728e-02,\n",
       "           -1.24952383e-02, -1.87419027e-01, -6.93510845e-02,\n",
       "           -3.77054093e-03, -1.35194674e-01,  3.80289592e-02,\n",
       "           -1.05628230e-01, -4.69096936e-02,  2.89446656e-02,\n",
       "            1.99252758e-02, -1.01103820e-01,  6.44389540e-02,\n",
       "           -5.24434540e-03, -1.57877520e-01,  8.08589067e-03,\n",
       "            7.85090551e-02, -3.75643335e-02, -6.58846349e-02,\n",
       "            5.97035810e-02, -5.48413731e-02, -1.29111990e-01,\n",
       "           -1.88454706e-02,  2.26071980e-02, -1.29811063e-01,\n",
       "           -3.93136233e-01, -2.39377707e-01, -9.62673426e-02,\n",
       "            3.16790268e-02, -3.64543229e-01,  5.39066605e-02,\n",
       "           -3.48986872e-02,  9.36178640e-02, -2.00977363e-02,\n",
       "           -1.38585746e-01, -1.15944713e-04, -1.86612699e-02,\n",
       "            2.07727607e-02,  4.18326855e-02, -3.02557573e-02,\n",
       "           -7.07687512e-02,  3.92461456e-02,  1.24898262e-01,\n",
       "           -1.71314701e-02]],\n",
       " \n",
       "         [[ 5.31303734e-02, -1.25974014e-01, -7.25368783e-02,\n",
       "           -4.12647389e-02, -3.41445357e-02, -2.13809878e-01,\n",
       "           -1.24166824e-01,  4.99695390e-02, -7.23344386e-02,\n",
       "            4.90738191e-02, -2.20212545e-02,  1.00235548e-02,\n",
       "           -2.14731134e-02, -6.10428350e-03, -5.30028380e-02,\n",
       "           -3.78502123e-02, -3.44953865e-01,  1.56388804e-02,\n",
       "           -2.72059202e-01, -1.23516526e-02, -3.76063026e-02,\n",
       "           -5.48843816e-02, -1.43811151e-01, -1.43330963e-02,\n",
       "           -2.04190388e-01,  2.69575249e-02, -4.99222763e-02,\n",
       "           -1.36533022e-01,  4.98733222e-02,  1.13455392e-02,\n",
       "           -2.75540780e-02,  1.19192958e-01, -5.18767014e-02,\n",
       "           -1.53323755e-01, -1.95337147e-01, -8.82546455e-02,\n",
       "           -6.61602840e-02, -5.00080176e-02,  5.92803136e-02,\n",
       "           -1.58587933e-01, -7.21648559e-02, -3.92935783e-01,\n",
       "           -2.52790339e-02,  2.52249409e-02, -4.97923493e-02,\n",
       "           -3.89238000e-01, -1.74271196e-01,  1.09309535e-02,\n",
       "           -3.32075730e-02, -1.42619818e-01, -1.43038243e-01,\n",
       "           -6.71590958e-03, -1.70538545e-01, -9.32864919e-02,\n",
       "            9.82269049e-02, -1.30806528e-02, -1.37849320e-02,\n",
       "           -1.56321712e-02,  2.05320381e-02,  1.90335605e-02,\n",
       "            3.44267786e-02, -1.37169391e-01, -2.07058281e-01,\n",
       "           -1.60078835e-02]]]], dtype=float32),\n",
       " array([-4.27279949e-01,  1.69443917e-02, -1.21263422e-01, -1.92500100e-01,\n",
       "        -1.45185307e-01,  4.94899228e-02, -1.19618684e-01, -4.33262512e-02,\n",
       "        -1.68332271e-02, -4.38487902e-03, -5.06599724e-01, -5.34273311e-02,\n",
       "         1.83610439e-01, -3.19560315e-03, -2.12075666e-01,  3.77577156e-01,\n",
       "         2.06634536e-01, -2.86290854e-01,  1.12235479e-01, -1.13299899e-01,\n",
       "        -8.96177962e-02, -9.95567292e-02, -3.71023919e-03, -6.42738417e-02,\n",
       "         1.04854340e-02,  6.27413914e-02, -1.51992902e-01, -1.92772895e-01,\n",
       "        -4.05925930e-01, -1.68740392e-01, -3.21105629e-01, -3.37796882e-02,\n",
       "        -3.60696502e-02, -1.54723912e-01,  3.28720966e-03, -2.79118448e-01,\n",
       "        -2.77478367e-01, -3.23199213e-01, -3.16091508e-01, -2.05025554e-01,\n",
       "         2.39908993e-02,  3.37509736e-02, -1.59397602e-01, -6.81299120e-02,\n",
       "        -2.27094039e-01, -1.45741238e-03, -1.23144026e-04, -3.50290358e-01,\n",
       "        -1.13344230e-02,  2.58640852e-02,  3.07743736e-02,  1.48851812e-01,\n",
       "         4.04850319e-02, -1.23866163e-01,  1.28359646e-01, -1.94325477e-01,\n",
       "         2.66173691e-01, -2.59351969e-01, -1.20980130e-03,  2.63060480e-02,\n",
       "        -3.04826796e-01, -5.68136247e-03,  5.74069843e-03, -1.53176159e-01],\n",
       "       dtype=float32),\n",
       " array([[[[-0.0537585    , -0.020711867  , -0.18433857   , ...,\n",
       "           -0.026829435  , -0.1728136    ,  0.0070650335 ],\n",
       "          [-0.11631597   , -0.1232292    , -0.18805376   , ...,\n",
       "           -0.014757351  ,  0.09563475   , -0.24793968   ],\n",
       "          [ 0.024932733  , -0.06935619   , -0.03560701   , ...,\n",
       "           -0.083221264  ,  0.015468478  ,  0.04706624   ],\n",
       "          ...,\n",
       "          [ 0.13786551   , -0.07038508   , -0.0346627    , ...,\n",
       "           -0.0008583072 ,  0.118409365  ,  0.0017457877 ],\n",
       "          [-0.11972094   ,  0.02213      , -0.12055404   , ...,\n",
       "           -0.07444499   , -0.12741598   , -0.2744447    ],\n",
       "          [-0.054878872  ,  0.023390962  , -0.013883341  , ...,\n",
       "           -0.020826727  ,  0.002482671  ,  0.028069481  ]],\n",
       " \n",
       "         [[-0.02370733   , -0.029776892  ,  0.0038791783 , ...,\n",
       "            0.017713895  , -0.124701954  , -0.0517899    ],\n",
       "          [-0.11706919   ,  0.03756124   , -0.09547218   , ...,\n",
       "           -0.09259721   ,  0.19777817   , -0.072282635  ],\n",
       "          [ 0.06423447   ,  0.033649728  ,  0.0146082565 , ...,\n",
       "           -0.017891753  , -0.043800093  , -0.08245464   ],\n",
       "          ...,\n",
       "          [ 0.12751573   , -0.024779001  , -0.03262573   , ...,\n",
       "           -0.0038705487 , -0.058021385  , -0.05338378   ],\n",
       "          [ 0.04293108   ,  0.13465403   ,  0.014723068  , ...,\n",
       "           -0.08220445   , -0.039394576  , -0.02404549   ],\n",
       "          [-0.03164024   , -0.0045396658 ,  0.029696941  , ...,\n",
       "           -0.020587357  , -0.10558214   ,  0.042604137  ]],\n",
       " \n",
       "         [[-0.032225203  , -0.05771724   , -0.08114498   , ...,\n",
       "           -0.04384756   , -0.12081356   , -0.07100033   ],\n",
       "          [-0.10126957   , -0.14861241   , -0.023792129  , ...,\n",
       "           -0.029248001  , -0.0543607    ,  0.025700811  ],\n",
       "          [-0.07600428   , -0.024956867  ,  0.014442681  , ...,\n",
       "            0.024582667  , -0.08539572   , -0.030681128  ],\n",
       "          ...,\n",
       "          [ 0.11931979   ,  0.11753643   ,  0.052999586  , ...,\n",
       "           -0.21189636   , -0.18513085   , -0.13512965   ],\n",
       "          [ 0.1539213    ,  0.053857815  ,  0.14336951   , ...,\n",
       "            0.09001175   , -0.04726333   , -0.19650435   ],\n",
       "          [-0.046761278  ,  0.013864717  , -0.021942085  , ...,\n",
       "            0.017468069  , -0.049498282  ,  0.016279804  ]]],\n",
       " \n",
       " \n",
       "        [[[ 0.023986688  , -0.17628889   , -0.16452222   , ...,\n",
       "           -0.041249007  ,  0.029016618  , -0.28012365   ],\n",
       "          [-0.11305451   , -0.068606995  , -0.0113529805 , ...,\n",
       "           -0.02543316   , -0.03656569   ,  0.010683827  ],\n",
       "          [-0.049697448  ,  0.01893071   , -0.07417222   , ...,\n",
       "           -0.0066952123 ,  0.05289651   , -0.00672405   ],\n",
       "          ...,\n",
       "          [ 0.07882399   ,  0.01281294   ,  0.09821453   , ...,\n",
       "           -0.106361896  ,  0.037898283  , -0.021302022  ],\n",
       "          [ 0.24216315   ,  0.030731063  , -0.101638116  , ...,\n",
       "           -0.099399395  , -0.19345702   , -0.21534249   ],\n",
       "          [ 0.03216986   ,  0.014378973  ,  0.009982203  , ...,\n",
       "           -0.059184995  ,  0.04909593   ,  0.0044576144 ]],\n",
       " \n",
       "         [[-0.062750086  , -0.023754887  , -0.044692088  , ...,\n",
       "           -0.010533963  , -0.076476924  , -0.09744003   ],\n",
       "          [-0.09559421   , -0.16637637   ,  0.10034229   , ...,\n",
       "           -0.064927936  , -0.058880594  , -0.170453     ],\n",
       "          [-0.09386583   ,  0.08562774   ,  0.0044414983 , ...,\n",
       "           -0.020087449  ,  0.045262095  , -0.07638349   ],\n",
       "          ...,\n",
       "          [ 0.02783643   , -0.026900005  ,  0.100730896  , ...,\n",
       "            0.0113437185 ,  0.12582219   , -0.021074224  ],\n",
       "          [ 0.14012533   , -0.01458046   ,  0.11843358   , ...,\n",
       "           -0.057451125  ,  0.02043398   , -0.12331316   ],\n",
       "          [-0.020861262  , -0.0052141533 , -0.075440206  , ...,\n",
       "           -0.0024294076 ,  0.03429712   ,  0.051317226  ]],\n",
       " \n",
       "         [[ 0.0007341661 ,  0.013489954  , -0.005647834  , ...,\n",
       "           -0.21101974   , -0.034651816  ,  0.016629629  ],\n",
       "          [-0.13024211   , -0.06474645   , -0.054220483  , ...,\n",
       "            0.07637788   ,  0.0671154    ,  0.11928292   ],\n",
       "          [-0.050933484  ,  0.008278373  , -0.044510663  , ...,\n",
       "            0.0234412    , -0.036878746  , -0.089039676  ],\n",
       "          ...,\n",
       "          [-0.02363354   ,  0.026071941  ,  0.09912129   , ...,\n",
       "           -0.04607965   ,  0.057072338  ,  0.0008512124 ],\n",
       "          [ 0.012424607  ,  0.04099296   ,  0.0192834    , ...,\n",
       "           -0.0096945    ,  0.042888917  , -0.09805121   ],\n",
       "          [-0.05052217   , -0.024444552  , -0.007005318  , ...,\n",
       "            0.015719403  ,  0.01479942   , -0.0030524675 ]]],\n",
       " \n",
       " \n",
       "        [[[-0.026271662  , -0.19081852   , -0.18718529   , ...,\n",
       "            0.09966857   ,  0.0007705388 , -0.0079349205 ],\n",
       "          [-0.27992857   ,  0.028915202  ,  0.1159362    , ...,\n",
       "            0.0781982    , -0.0868713    , -0.059346203  ],\n",
       "          [-0.16688593   , -0.04961765   , -0.010859705  , ...,\n",
       "            0.081810586  , -0.11729101   , -0.07112455   ],\n",
       "          ...,\n",
       "          [-0.08448121   ,  0.034588862  , -0.15251917   , ...,\n",
       "            0.098614395  , -0.040205784  , -0.08458792   ],\n",
       "          [ 0.048991192  ,  0.08248335   , -0.1553675    , ...,\n",
       "           -0.027629966  ,  0.10438317   , -0.07974438   ],\n",
       "          [-0.025317954  , -0.015938938  , -0.079451434  , ...,\n",
       "           -0.057028815  ,  0.0013926125 , -0.0511219    ]],\n",
       " \n",
       "         [[ 0.035462897  , -0.10447396   ,  0.084842235  , ...,\n",
       "           -0.051805235  , -0.058339663  ,  0.12196218   ],\n",
       "          [ 0.014716921  , -0.1426549    , -0.12987627   , ...,\n",
       "           -0.0056794262 , -0.04052662   ,  0.040549252  ],\n",
       "          [-0.016731797  , -0.022291435  ,  0.056855723  , ...,\n",
       "           -0.034327168  ,  0.047922358  ,  0.06321438   ],\n",
       "          ...,\n",
       "          [-0.117534585  ,  0.034750346  ,  0.00031861238, ...,\n",
       "           -0.026322609  ,  0.18045431   ,  0.062952004  ],\n",
       "          [-0.11552232   ,  0.09758659   ,  0.06381631   , ...,\n",
       "           -0.059296593  ,  0.01624414   , -0.11402121   ],\n",
       "          [ 0.059175137  , -0.040036842  ,  0.042881273  , ...,\n",
       "           -0.048016094  ,  0.07246178   , -0.10489888   ]],\n",
       " \n",
       "         [[ 0.06497277   ,  0.13962738   ,  0.033943467  , ...,\n",
       "           -0.06528239   ,  0.011573454  ,  0.08689247   ],\n",
       "          [-0.02331254   , -0.14920747   ,  0.031289194  , ...,\n",
       "            0.027165262  ,  0.045144822  , -0.015124577  ],\n",
       "          [-0.011429037  ,  0.050456863  , -0.011129039  , ...,\n",
       "           -0.080241926  ,  0.022224829  ,  0.06758404   ],\n",
       "          ...,\n",
       "          [ 0.006635506  ,  0.014988992  ,  0.025773952  , ...,\n",
       "           -0.09734515   , -0.04084125   ,  0.1598873    ],\n",
       "          [ 0.06712511   , -0.14458422   ,  0.08598509   , ...,\n",
       "           -0.19696529   ,  0.039395664  ,  0.087459795  ],\n",
       "          [ 0.021512     ,  0.009255365  , -0.03820113   , ...,\n",
       "            0.04463138   , -0.032040372  , -0.05420773   ]]]],\n",
       "       dtype=float32),\n",
       " array([ 0.09292227  ,  0.16165888  , -0.11731961  , -0.031125333 ,\n",
       "         0.098342694 , -0.09591264  , -0.10016857  ,  0.08512544  ,\n",
       "         0.38629952  ,  0.14929165  , -0.013974902 , -0.032137614 ,\n",
       "         0.015763607 , -0.051897578 , -0.012728705 ,  0.310182    ,\n",
       "         0.19116388  ,  0.13256106  ,  0.19029088  , -0.06109795  ,\n",
       "        -0.10252151  ,  0.08112251  ,  0.012738848 , -0.1336637   ,\n",
       "        -0.047075104 , -0.08061016  ,  0.15299699  ,  0.15096802  ,\n",
       "         0.33603072  ,  0.19314143  , -0.00660167  , -0.10257397  ,\n",
       "         0.35754088  ,  0.22610012  ,  0.21786681  ,  0.17316198  ,\n",
       "         0.080585495 , -0.30743447  ,  0.0016373505, -0.06484762  ,\n",
       "        -0.03140313  , -0.03241399  , -0.0435417   , -0.032240104 ,\n",
       "         0.07818867  ,  0.18798159  ,  0.12689415  , -0.0427137   ,\n",
       "         0.09650389  ,  0.015060378 ,  0.010058924 ,  0.094985835 ,\n",
       "         0.2818444   , -0.04269263  , -0.15991487  , -0.08987052  ,\n",
       "         0.08257482  ,  0.091101274 , -0.04019856  , -0.07888581  ,\n",
       "         0.08893821  ,  0.019337421 ,  0.19887803  ,  0.17785563  ],\n",
       "       dtype=float32),\n",
       " array([[ 0.046072938 , -0.04903193  ,  0.01268884  , ...,  0.042753942 ,\n",
       "         -0.03181817  , -0.023749707 ],\n",
       "        [-0.052427776 , -0.009147093 ,  0.0085492395, ..., -0.08096611  ,\n",
       "         -0.07512123  , -0.020059744 ],\n",
       "        [ 0.045028232 , -0.06529723  , -0.063791275 , ..., -0.019240545 ,\n",
       "         -0.101356044 ,  0.00904144  ],\n",
       "        ...,\n",
       "        [-0.19092062  , -0.0010503978, -0.061493304 , ..., -0.04991553  ,\n",
       "          0.008507504 , -0.019729326 ],\n",
       "        [-0.0670655   ,  0.03173731  , -0.046860114 , ...,  0.077197194 ,\n",
       "         -0.058174554 , -0.119790554 ],\n",
       "        [ 0.05470093  , -0.010916321 ,  0.0107355155, ...,  0.0009330398,\n",
       "          0.013068826 , -0.03496228  ]], dtype=float32),\n",
       " array([-0.042217664  , -0.0638953    , -0.06185613   , -0.04711749   ,\n",
       "        -0.0087141525 , -0.103291735  , -0.07468958   ,  0.08025987   ,\n",
       "        -0.06401614   ,  0.14730181   , -0.04896598   ,  0.073170856  ,\n",
       "        -0.026570212  , -0.038356088  ,  0.0723275    ,  0.0035906609 ,\n",
       "        -0.012455706  , -0.0061126607 ,  0.054982394  , -0.08329711   ,\n",
       "        -0.044708505  , -0.05221298   , -0.018899709  , -0.07917621   ,\n",
       "         0.032153472  , -0.06749566   , -0.049971107  , -0.0020106116 ,\n",
       "         0.11313279   ,  0.0127413655 , -0.0063965824 ,  0.120735765  ,\n",
       "         0.032597095  , -0.014055603  , -0.046122417  , -0.07517713   ,\n",
       "        -0.046508547  ,  0.13160194   , -0.047631294  ,  0.0045314194 ,\n",
       "         0.047209214  , -0.046818573  ,  0.21120568   ,  0.06412322   ,\n",
       "        -0.06851737   ,  0.059992585  , -0.11937929   , -0.051615212  ,\n",
       "        -0.03573939   , -0.036232136  , -0.04280574   , -0.08250764   ,\n",
       "        -0.046981625  ,  0.10397032   , -0.054131057  , -0.070440724  ,\n",
       "         0.034368217  ,  0.030552674  , -0.038386114  ,  0.05553921   ,\n",
       "         0.042313166  , -0.11097596   ,  0.053532742  , -0.02618799   ,\n",
       "         0.09319444   ,  0.10025979   ,  0.087448984  ,  0.106899895  ,\n",
       "        -0.050766136  , -0.05125089   , -0.017835617  ,  0.094773434  ,\n",
       "         0.078204915  ,  0.0010397277 ,  0.18419446   , -0.033628102  ,\n",
       "         0.05951796   , -0.053483944  , -0.017401626  , -0.0878275    ,\n",
       "        -0.0075117834 , -0.046054672  , -0.041755576  ,  0.120706655  ,\n",
       "        -0.1132566    , -0.0662233    ,  0.022531722  , -0.019405257  ,\n",
       "         0.13972022   ,  0.022346832  ,  0.085667506  ,  0.092400715  ,\n",
       "        -0.098382264  , -0.055996187  ,  0.11909437   , -0.048138507  ,\n",
       "        -0.0364091    , -0.031220114  , -0.049422704  , -0.05227053   ,\n",
       "        -0.08642733   ,  0.03442432   ,  0.1254233    ,  0.11103789   ,\n",
       "        -0.08451772   , -0.00564155   , -0.023681406  ,  0.08052763   ,\n",
       "        -0.050148755  , -0.010537655  ,  0.1577544    , -0.0573344    ,\n",
       "        -0.025162848  , -0.039924398  ,  0.06798708   , -0.049829807  ,\n",
       "        -0.084393     , -0.00044499003, -0.10972139   , -0.045479752  ,\n",
       "        -0.08390142   , -0.037299924  , -0.05636293   ,  0.117192216  ,\n",
       "         0.09673528   ,  0.0781443    , -0.037071425  , -0.07982262   ],\n",
       "       dtype=float32),\n",
       " array([[ 0.001064916 , -0.027107764 ,  0.13238835  , ...,  0.07289377  ,\n",
       "         -0.1357807   ,  0.098016664 ],\n",
       "        [-0.21851833  , -0.014746967 , -0.15087827  , ...,  0.11232497  ,\n",
       "         -0.16185398  ,  0.029465564 ],\n",
       "        [-0.01639221  , -0.100728765 , -0.06503211  , ...,  0.15092167  ,\n",
       "         -0.101996966 , -0.16725075  ],\n",
       "        ...,\n",
       "        [ 0.14904298  ,  0.16989647  ,  0.12663662  , ...,  0.06694114  ,\n",
       "          0.0627863   ,  0.07138394  ],\n",
       "        [ 0.02844037  ,  0.19671796  ,  0.016867125 , ...,  0.0092879245,\n",
       "         -0.011693986 , -0.02669032  ],\n",
       "        [-0.03556082  ,  0.06996144  ,  0.0864639   , ..., -0.01955044  ,\n",
       "          0.1591139   , -0.14036286  ]], dtype=float32),\n",
       " array([ 0.0014451906, -0.10071037  , -0.021126093 ,  0.15911014  ,\n",
       "        -0.16395734  , -0.21164699  ,  0.122905426 ,  0.10601372  ,\n",
       "         0.0672938   , -0.043544177 ], dtype=float32)]"
      ]
     },
     "execution_count": 19,
     "metadata": {},
     "output_type": "execute_result"
    }
   ],
   "source": [
    "model.get_weights()"
   ]
  },
  {
   "cell_type": "code",
   "execution_count": 28,
   "id": "0970e805",
   "metadata": {},
   "outputs": [
    {
     "data": {
      "text/plain": [
       "[<tensorflow.python.keras.layers.convolutional.Conv2D at 0x7fcca3f29a30>,\n",
       " <tensorflow.python.keras.layers.pooling.MaxPooling2D at 0x7fcca3f299d0>,\n",
       " <tensorflow.python.keras.layers.convolutional.Conv2D at 0x7fccb161f1f0>,\n",
       " <tensorflow.python.keras.layers.pooling.MaxPooling2D at 0x7fcca3f5ae20>,\n",
       " <tensorflow.python.keras.layers.core.Flatten at 0x7fcca36be100>,\n",
       " <tensorflow.python.keras.layers.core.Dense at 0x7fcca36be430>,\n",
       " <tensorflow.python.keras.layers.core.Dense at 0x7fcca36be6d0>]"
      ]
     },
     "execution_count": 28,
     "metadata": {},
     "output_type": "execute_result"
    }
   ],
   "source": [
    "model.layers"
   ]
  },
  {
   "cell_type": "code",
   "execution_count": 29,
   "id": "bee12155",
   "metadata": {},
   "outputs": [
    {
     "data": {
      "text/plain": [
       "[<KerasTensor: shape=(None, 26, 26, 64) dtype=float32 (created by layer 'conv2d')>,\n",
       " <KerasTensor: shape=(None, 13, 13, 64) dtype=float32 (created by layer 'max_pooling2d')>,\n",
       " <KerasTensor: shape=(None, 11, 11, 64) dtype=float32 (created by layer 'conv2d_1')>,\n",
       " <KerasTensor: shape=(None, 5, 5, 64) dtype=float32 (created by layer 'max_pooling2d_1')>,\n",
       " <KerasTensor: shape=(None, 1600) dtype=float32 (created by layer 'flatten')>,\n",
       " <KerasTensor: shape=(None, 128) dtype=float32 (created by layer 'dense')>,\n",
       " <KerasTensor: shape=(None, 10) dtype=float32 (created by layer 'dense_1')>]"
      ]
     },
     "execution_count": 29,
     "metadata": {},
     "output_type": "execute_result"
    }
   ],
   "source": [
    "layer_outputs = [layer.output for layer in model.layers]\n",
    "layer_outputs"
   ]
  },
  {
   "cell_type": "code",
   "execution_count": 33,
   "id": "45a950c6",
   "metadata": {},
   "outputs": [
    {
     "data": {
      "text/plain": [
       "<KerasTensor: shape=(None, 28, 28, 1) dtype=float32 (created by layer 'conv2d_input')>"
      ]
     },
     "execution_count": 33,
     "metadata": {},
     "output_type": "execute_result"
    }
   ],
   "source": [
    "model.input"
   ]
  },
  {
   "cell_type": "code",
   "execution_count": 32,
   "id": "6bd86aac",
   "metadata": {},
   "outputs": [
    {
     "data": {
      "image/png": "[encoded data removed]",
      "text/plain": [
       "<Figure size 432x288 with 12 Axes>"
      ]
     },
     "metadata": {
      "needs_background": "light"
     },
     "output_type": "display_data"
    }
   ],
   "source": [
    "import matplotlib.pyplot as plt\n",
    "f, axarr = plt.subplots(3,4)\n",
    "FIRST_IMAGE=0\n",
    "SECOND_IMAGE=7\n",
    "THIRD_IMAGE=26\n",
    "CONVOLUTION_NUMBER = 1\n",
    "from tensorflow.keras import models\n",
    "layer_outputs = [layer.output for layer in model.layers]\n",
    "activation_model = tf.keras.models.Model(inputs = model.input, outputs = layer_outputs)\n",
    "for x in range(0,4):\n",
    "  f1 = activation_model.predict(x_test[FIRST_IMAGE].reshape(1, 28, 28, 1))[x]\n",
    "  axarr[0,x].imshow(f1[0, : , :, CONVOLUTION_NUMBER], cmap='inferno')\n",
    "  axarr[0,x].grid(False)\n",
    "  f2 = activation_model.predict(x_test[SECOND_IMAGE].reshape(1, 28, 28, 1))[x]\n",
    "  axarr[1,x].imshow(f2[0, : , :, CONVOLUTION_NUMBER], cmap='inferno')\n",
    "  axarr[1,x].grid(False)\n",
    "  f3 = activation_model.predict(x_test[THIRD_IMAGE].reshape(1, 28, 28, 1))[x]\n",
    "  axarr[2,x].imshow(f3[0, : , :, CONVOLUTION_NUMBER], cmap='inferno')\n",
    "  axarr[2,x].grid(False)"
   ]
  }
 ],
 "metadata": {
  "kernelspec": {
   "display_name": "Python 3 (ipykernel)",
   "language": "python",
   "name": "python3"
  },
  "language_info": {
   "codemirror_mode": {
    "name": "ipython",
    "version": 3
   },
   "file_extension": ".py",
   "mimetype": "text/x-python",
   "name": "python",
   "nbconvert_exporter": "python",
   "pygments_lexer": "ipython3",
   "version": "3.8.10"
  }
 },
 "nbformat": 4,
 "nbformat_minor": 5
}
